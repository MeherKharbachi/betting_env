{
 "cells": [
  {
   "cell_type": "code",
   "execution_count": null,
   "id": "a15c6be9-3985-415b-8dd4-d90f9d328499",
   "metadata": {},
   "outputs": [],
   "source": [
    "#| default_exp utils.asian_1x2_pnl"
   ]
  },
  {
   "cell_type": "code",
   "execution_count": null,
   "id": "1a11e49f-40fe-4e8d-a0fb-ba4b5a2e39d4",
   "metadata": {},
   "outputs": [],
   "source": [
    "#| hide\n",
    "\n",
    "from IPython.core.debugger import set_trace\n",
    "\n",
    "%load_ext autoreload\n",
    "%autoreload 2"
   ]
  },
  {
   "cell_type": "markdown",
   "id": "b58fcdc9-0960-47c4-ad7f-2c9de506a7ce",
   "metadata": {},
   "source": [
    "# 1X2 and Asian Handicap Profit\n",
    "\n",
    "> Profit for 1X2 and Asian handicap betting"
   ]
  },
  {
   "cell_type": "code",
   "execution_count": null,
   "id": "6a7ed203",
   "metadata": {},
   "outputs": [],
   "source": [
    "# |export\n",
    "import numexpr\n",
    "import numpy as np\n",
    "import mongoengine\n",
    "import pandas as pd"
   ]
  },
  {
   "cell_type": "markdown",
   "id": "ef400fd9",
   "metadata": {},
   "source": [
    "# Load data"
   ]
  },
  {
   "cell_type": "markdown",
   "id": "8d6ae6af",
   "metadata": {},
   "source": [
    "Using the `config.toml` credentials included in the main repository, we must first load games data stored in our MongoDb Cluster before testing our betting environment."
   ]
  },
  {
   "cell_type": "code",
   "execution_count": null,
   "id": "f6078187",
   "metadata": {},
   "outputs": [],
   "source": [
    "# | include: false\n",
    "\n",
    "from betting_env.config.mongo import mongo_init\n",
    "from betting_env.datastructure.fixtures import Fixture"
   ]
  },
  {
   "cell_type": "code",
   "execution_count": null,
   "id": "c8636d09",
   "metadata": {},
   "outputs": [
    {
     "data": {
      "text/html": [
       "<div>\n",
       "<style scoped>\n",
       "    .dataframe tbody tr th:only-of-type {\n",
       "        vertical-align: middle;\n",
       "    }\n",
       "\n",
       "    .dataframe tbody tr th {\n",
       "        vertical-align: top;\n",
       "    }\n",
       "\n",
       "    .dataframe thead th {\n",
       "        text-align: right;\n",
       "    }\n",
       "</style>\n",
       "<table border=\"1\" class=\"dataframe\">\n",
       "  <thead>\n",
       "    <tr style=\"text-align: right;\">\n",
       "      <th></th>\n",
       "      <th>_id</th>\n",
       "      <th>gameId</th>\n",
       "      <th>optaGameId</th>\n",
       "      <th>gameDate</th>\n",
       "      <th>homeTeamId</th>\n",
       "      <th>homeTeamOptaId</th>\n",
       "      <th>homeTeamName</th>\n",
       "      <th>awayTeamId</th>\n",
       "      <th>awayTeamOptaId</th>\n",
       "      <th>awayTeamName</th>\n",
       "      <th>...</th>\n",
       "      <th>awayTeamLineupSlots</th>\n",
       "      <th>awayTeamFormation</th>\n",
       "      <th>preGameOdds1</th>\n",
       "      <th>preGameOddsX</th>\n",
       "      <th>preGameOdds2</th>\n",
       "      <th>preGameAhHome</th>\n",
       "      <th>preGameAhAway</th>\n",
       "      <th>lineId</th>\n",
       "      <th>result</th>\n",
       "      <th>postGameGd</th>\n",
       "    </tr>\n",
       "  </thead>\n",
       "  <tbody>\n",
       "    <tr>\n",
       "      <th>0</th>\n",
       "      <td>63fbf2a515a225c64d74249c</td>\n",
       "      <td>174dba7291174b4dbbfa9ea12dd944bb45bdd8ed905524...</td>\n",
       "      <td>990997</td>\n",
       "      <td>2018-08-22T18:45:00.000Z</td>\n",
       "      <td>126905d14981e6b97912ad4fec354035ccef26cb8ec4e1...</td>\n",
       "      <td>7</td>\n",
       "      <td>Aston Villa</td>\n",
       "      <td>419088133137a53bfdb1b7e2e682d223d33a6fa075bbfe...</td>\n",
       "      <td>94</td>\n",
       "      <td>Brentford</td>\n",
       "      <td>...</td>\n",
       "      <td>[1, 5, 9, 8, 3, 6, 7, 10, 4, 11, 2]</td>\n",
       "      <td>4-2-3-1</td>\n",
       "      <td>2.62</td>\n",
       "      <td>3.53</td>\n",
       "      <td>2.77</td>\n",
       "      <td>1.86</td>\n",
       "      <td>2.06</td>\n",
       "      <td>0.0</td>\n",
       "      <td>1.0</td>\n",
       "      <td>0</td>\n",
       "    </tr>\n",
       "  </tbody>\n",
       "</table>\n",
       "<p>1 rows × 26 columns</p>\n",
       "</div>"
      ],
      "text/plain": [
       "                        _id  \\\n",
       "0  63fbf2a515a225c64d74249c   \n",
       "\n",
       "                                              gameId  optaGameId  \\\n",
       "0  174dba7291174b4dbbfa9ea12dd944bb45bdd8ed905524...      990997   \n",
       "\n",
       "                   gameDate  \\\n",
       "0  2018-08-22T18:45:00.000Z   \n",
       "\n",
       "                                          homeTeamId  homeTeamOptaId  \\\n",
       "0  126905d14981e6b97912ad4fec354035ccef26cb8ec4e1...               7   \n",
       "\n",
       "  homeTeamName                                         awayTeamId  \\\n",
       "0  Aston Villa  419088133137a53bfdb1b7e2e682d223d33a6fa075bbfe...   \n",
       "\n",
       "   awayTeamOptaId awayTeamName  ...                  awayTeamLineupSlots  \\\n",
       "0              94    Brentford  ...  [1, 5, 9, 8, 3, 6, 7, 10, 4, 11, 2]   \n",
       "\n",
       "  awayTeamFormation preGameOdds1 preGameOddsX preGameOdds2 preGameAhHome  \\\n",
       "0           4-2-3-1         2.62         3.53         2.77          1.86   \n",
       "\n",
       "  preGameAhAway lineId  result  postGameGd  \n",
       "0          2.06    0.0     1.0           0  \n",
       "\n",
       "[1 rows x 26 columns]"
      ]
     },
     "execution_count": null,
     "metadata": {},
     "output_type": "execute_result"
    }
   ],
   "source": [
    "# | include: false\n",
    "\n",
    "# Initialise connections.\n",
    "mongo_init(\"prod_atlas\")\n",
    "\n",
    "# Get only one fixture.\n",
    "fixture = Fixture.get_all_fixtures(1)\n",
    "\n",
    "# Fixture.\n",
    "fixture = pd.DataFrame(fixture.as_pymongo())\n",
    "fixture.head()"
   ]
  },
  {
   "cell_type": "markdown",
   "id": "3108cff9",
   "metadata": {},
   "source": [
    "# 1X2 and Asian Handicap Market"
   ]
  },
  {
   "cell_type": "markdown",
   "id": "473015c6",
   "metadata": {},
   "source": [
    "There are many other types of bets available in this area of sports betting, including the most well-known 1X2. However, the latter presupposes that the investor has a 33% chance of winning and must wager on one of the three possible outcomes: the <b>Home Team</b>, The <b>Away Team</b>, or a <b>Draw</b>.\n",
    "\n",
    "Due to this, a brand-new sort of betting type called Asian handicaps emerged, which denotes that one team effectively leads the other side. It eliminates the possibility of a draw in a game, reducing the number of outcomes to two and raising the likelihood of winning to 50%.\n",
    "\n",
    "We have to note that the favorite team that is at a disadvantage is denoted with a negative sign (-).\n",
    "A plus sign (+) is used to indicate the handicap advantage enjoyed by the underdog squad.\n",
    "\n",
    "In this regard, we have 3 different lines which are available for different games : \n",
    "\n",
    "   - <b> Half Integer Lines :</b> These are the lines that perform the best when it comes to computing payoffs for outcomes with binary options. The outcome of the wager is either a win or a loss.\n",
    "    \n",
    "   - <b> Integer Lines :</b> If the handicap chosen is equal to the score difference, it can result in a bet being returned.\n",
    "    \n",
    "   - <b> Quarter Integer Lines :</b> Divide your wager equally between the two AH lines above. For instance, a handicap of -0.75 is really two handicaps for the price of one, with half of your bet being made at -0.5 and the other half at -1, both of which are given the same odds. In this case, we have a win, a partial win, a partial loss, and a whole loss."
   ]
  },
  {
   "cell_type": "markdown",
   "id": "0ccf4d27",
   "metadata": {},
   "source": [
    "# PnL computation"
   ]
  },
  {
   "cell_type": "markdown",
   "id": "f70c5902",
   "metadata": {},
   "source": [
    "## 1X2 market"
   ]
  },
  {
   "cell_type": "markdown",
   "id": "6594f0be",
   "metadata": {},
   "source": [
    "The PnL of the 1x2 market depends on the match outcome (home-win/draw/away-win) and is *binary*: the punter can either make a profit and get his stake returned or loose his stake."
   ]
  },
  {
   "cell_type": "markdown",
   "id": "d6b695d0",
   "metadata": {},
   "source": [
    "$$ profit_{1X2} =  (Odds \\times Stake) - Stake$$\n",
    "With:\n",
    "\n",
    "+ Stake : Invested money\n",
    "+ Odds : 1X2 betting odds"
   ]
  },
  {
   "cell_type": "code",
   "execution_count": null,
   "id": "03656707",
   "metadata": {},
   "outputs": [],
   "source": [
    "# | export\n",
    "\n",
    "\n",
    "def pnl_1X2(\n",
    "    bet: list,  # The betting list (5 ints) for the provided action.\n",
    "    balance: float,  # Current account balance.\n",
    "    results: np.ndarray,  # Game result (Binary side outcome), shape=(1,5).\n",
    "    odds: np.ndarray,  # odds for the current game, shape=(1,5)\n",
    ") -> float: # 1X2 PnL\n",
    "    \"Returns the 1X2 PnL.\"\n",
    "    # reward(could be positive or negative)\n",
    "    reward = numexpr.evaluate(\"sum(bet * balance * results * odds)\")\n",
    "    # Invested money\n",
    "    expense = numexpr.evaluate(\"sum(bet * balance)\")\n",
    "    # return pnl\n",
    "    return reward - expense"
   ]
  },
  {
   "cell_type": "code",
   "execution_count": null,
   "id": "5dd4dbb5",
   "metadata": {},
   "outputs": [
    {
     "name": "stdout",
     "output_type": "stream",
     "text": [
      "Balance: 100\n",
      "Bet action: [0, 0, 0.2, 0, 0]\n",
      "Odds: [[2.62 2.77 3.53 1.86 2.06]]\n",
      "Game result: [[0. 1. 0. 0. 0.]]\n",
      "1X2 PnL: -20.0\n"
     ]
    }
   ],
   "source": [
    "# | include: false\n",
    "\n",
    "# Balance.\n",
    "balance = 100\n",
    "# Bet action (here, our action is betting 20% of our balance on away team).\n",
    "bet = [0, 0, 0.2, 0, 0]\n",
    "# Game odds.\n",
    "odds = fixture[\n",
    "    [\n",
    "        \"preGameOdds1\",\n",
    "        \"preGameOdds2\",\n",
    "        \"preGameOddsX\",\n",
    "        \"preGameAhHome\",\n",
    "        \"preGameAhAway\",\n",
    "    ]\n",
    "].values\n",
    "# Game result index(homewin -> 0 , draw -> 1, awaywin -> 2).\n",
    "game_result = fixture[\"result\"].values\n",
    "binary_result = np.zeros(shape=(1, odds.shape[1]))\n",
    "binary_result[\n",
    "    np.arange(binary_result.shape[0], dtype=np.int32),\n",
    "    np.array([game_result], dtype=np.int32),\n",
    "] = 1\n",
    "# 1X2 Pnl.\n",
    "profit_1x2 = pnl_1X2(\n",
    "    bet=bet,\n",
    "    balance=balance,\n",
    "    results=binary_result,\n",
    "    odds=odds,\n",
    ")\n",
    "print(\"Balance:\", balance)\n",
    "print(\"Bet action:\", bet)\n",
    "print(\"Odds:\", odds)\n",
    "print(\"Game result:\", binary_result)\n",
    "print(\"1X2 PnL:\", profit_1x2)"
   ]
  },
  {
   "cell_type": "markdown",
   "id": "41c23c25",
   "metadata": {},
   "source": [
    "## Asian handicap market"
   ]
  },
  {
   "cell_type": "markdown",
   "id": "83b9cec5",
   "metadata": {},
   "source": [
    "The PnL for the Asian handicap line is more complicated. It is related to the game goal-difference and can result, as we decribed above, in 5 outcomes: win/half-win/fold/half-loss/loss."
   ]
  },
  {
   "cell_type": "markdown",
   "id": "2d5ec00c",
   "metadata": {},
   "source": [
    "$$ profit_{AH} = \\begin{cases} \n",
    "     0.0 & \\text{If Gd = 0} \\\\\\\\ \n",
    "     odds -1 & \\text{If Gd >= 0.5} \\\\\\\\\n",
    "     -1.0 & \\text{If Gd <= -0.5} \\\\\\\\\n",
    "     \\frac{odds -1}{2}& \\text{If Gd = 0.25}\\\\\\\\\n",
    "     -0.5 & \\text{If Gd = -0.25} \\\\\\\\\n",
    " 0.0 & \\text{Otherwise} \\end{cases} $$\n",
    " \n",
    " With:\n",
    "\n",
    "+ Gd : goal difference advantage\n",
    "+ Odds : 1X2 betting odds"
   ]
  },
  {
   "cell_type": "code",
   "execution_count": null,
   "id": "7373698d",
   "metadata": {},
   "outputs": [],
   "source": [
    "# | export\n",
    "\n",
    "\n",
    "def pnl_ah(\n",
    "    bet: list,  # The betting list (5 ints) for the provided action.\n",
    "    balance,  # Current account balance.\n",
    "    obs_gd: int,  # Game goal-difference.\n",
    "    ah_line: float,  # Asian line could be integer, half or quarter line.\n",
    "    ah_odds: float,  # Asian handicap odds for the given side.\n",
    ") -> float:  # Asian Handicap PnL.\n",
    "    \"Returns the Asian Handicap PnL\"\n",
    "    def _pnl_ah(obs_gd, ah_line, ah_odds):\n",
    "        \"provides the asian outcome given for a unit bet.\"\n",
    "        # Team advantage.\n",
    "        gd_advantage = obs_gd + ah_line\n",
    "\n",
    "        # Deal with all advantage cases.\n",
    "        # 0 advantage.\n",
    "        if gd_advantage == 0:\n",
    "            return 0.0\n",
    "        # Positive adv and higher than 0.5.\n",
    "        # Win the bet.\n",
    "        elif gd_advantage >= 0.5:\n",
    "            return ah_odds - 1\n",
    "        # Negative adv and < than -0.5.\n",
    "        # Lose the bet.\n",
    "        elif gd_advantage <= -0.5:\n",
    "            return -1.0\n",
    "\n",
    "        # Positive adv and equal to 0.25.\n",
    "        # Win the half.\n",
    "        elif gd_advantage == 0.25:\n",
    "            return (ah_odds - 1) * 0.5\n",
    "\n",
    "        # Positive adv and equal to -0.25.\n",
    "        # Lose the half stake of your bets.\n",
    "        elif gd_advantage == -0.25:\n",
    "            return -0.5\n",
    "        # Can't compute Asian Pnl for the observed handicap.\n",
    "        else:\n",
    "            return 0.0\n",
    "\n",
    "    # Calculate profit for a unit bet.\n",
    "    profit = _pnl_ah(obs_gd, ah_line, ah_odds)\n",
    "    # Return pnl for the invested amount.\n",
    "    return numexpr.evaluate(\"sum(bet * balance * profit)\").item()"
   ]
  },
  {
   "cell_type": "code",
   "execution_count": null,
   "id": "29fb2f40-02f4-4741-89bf-9c6fc9959d92",
   "metadata": {},
   "outputs": [
    {
     "name": "stdout",
     "output_type": "stream",
     "text": [
      "Balance: 100\n",
      "Bet action: [0, 0, 0, 0.7, 0]\n",
      "Game Goal difference: 0\n",
      "Asian Handicap Line: 0.0\n",
      "Asian Handicap odd: 1.86\n",
      "Asian Handicap PnL: 0.0\n"
     ]
    }
   ],
   "source": [
    "# | include: false\n",
    "\n",
    "# Bet action (here, our action is betting 70% of our balance on away team).\n",
    "bet = [0, 0, 0, 0.7, 0]\n",
    "\n",
    "# Game goal diff.\n",
    "gd = fixture[\"postGameGd\"].values[0]\n",
    "# Asian Handicap line.\n",
    "ah_line = fixture[\"lineId\"].values[0]\n",
    "# Asian Handicap home win odds.\n",
    "ah_odds = odds[:, 3:4].item()\n",
    "# Asian Handicap Pnl.\n",
    "profit_ah = pnl_ah(\n",
    "    bet=bet, balance=balance, obs_gd=gd, ah_line=ah_line, ah_odds=ah_odds\n",
    ")\n",
    "\n",
    "print(\"Balance:\", balance)\n",
    "print(\"Bet action:\", bet)\n",
    "print(\"Game Goal difference:\", gd)\n",
    "print(\"Asian Handicap Line:\", ah_line)\n",
    "print(\"Asian Handicap odd:\", ah_odds)\n",
    "print(\"Asian Handicap PnL:\", profit_ah)"
   ]
  },
  {
   "cell_type": "code",
   "execution_count": null,
   "id": "9f8f082d-5a4a-434f-9a8c-38e7bed19729",
   "metadata": {},
   "outputs": [],
   "source": [
    "#| hide\n",
    "\n",
    "import nbdev\n",
    "\n",
    "nbdev.nbdev_export()"
   ]
  }
 ],
 "metadata": {
  "kernelspec": {
   "display_name": "python3",
   "language": "python",
   "name": "python3"
  }
 },
 "nbformat": 4,
 "nbformat_minor": 5
}
