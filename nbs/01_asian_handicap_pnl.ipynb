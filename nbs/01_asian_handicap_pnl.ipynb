{
 "cells": [
  {
   "cell_type": "markdown",
   "id": "3feb2d77",
   "metadata": {},
   "source": [
    "# Asian Handicap PNL\n",
    "\n",
    "> For a given asian handicap line, we intend to calculate the profit of a trading action assuming a unit bet."
   ]
  },
  {
   "cell_type": "code",
   "execution_count": null,
   "id": "33e28c94",
   "metadata": {},
   "outputs": [],
   "source": [
    "#| default_exp asian_handicap_pnl"
   ]
  },
  {
   "cell_type": "markdown",
   "id": "473015c6",
   "metadata": {},
   "source": [
    "There are many other types of bets available in this area of sports betting, including the most well-known 1X2. However, the latter presupposes that the investor has a 33% chance of winning and must wager on one of the three possible outcomes: the <b>Home Team</b>, The <b>Away Team</b>, or a <b>Draw</b>.\n",
    "\n",
    "Due to this, a brand-new sort of betting type called Asian handicaps emerged, which denotes that one team effectively leads the other side. It eliminates the possibility of a draw in a game, reducing the number of outcomes to two and raising the likelihood of winning to 50%.\n",
    "\n",
    "We have to note that the favorite team that is at a disadvantage is denoted with a negative sign (-).\n",
    "A plus sign (+) is used to indicate the handicap advantage enjoyed by the underdog squad.\n",
    "\n",
    "In this regard, we have 3 different lines which are available for different games : \n",
    "\n",
    "   - <b> Half Integer Lines :</b> These are the lines that perform the best when it comes to computing payoffs for outcomes with binary options. The outcome of the wager is either a win or a loss.\n",
    "    \n",
    "   - <b> Integer Lines :</b> If the handicap chosen is equal to the score difference, it can result in a bet being returned.\n",
    "    \n",
    "   - <b> Quarter Integer Lines :</b> Divide your wager equally between the two AH lines above. For instance, a handicap of -0.75 is really two handicaps for the price of one, with half of your bet being made at -0.5 and the other half at -1, both of which are given the same odds. In this case, we have a win, a partial win, a partial loss, and a whole loss."
   ]
  },
  {
   "cell_type": "code",
   "execution_count": null,
   "id": "b7e4b018",
   "metadata": {},
   "outputs": [],
   "source": [
    "#| export\n",
    "class AsianHandicap:\n",
    "    \"\"\"Base class to calculate the profit and loss for a given Asian\n",
    "    Handicap bet assuming a unit bet.\n",
    "    \n",
    "    \"\"\"\n",
    "    \n",
    "    def __init__(self):\n",
    "        pass\n",
    "    @staticmethod    \n",
    "    def pnl(obs_gd, ah_line, ah_odds):\n",
    "        \"\"\" provide the asian outcome given the observed goal-difference,\n",
    "        the asian line and the asian odds for a single game.\n",
    "\n",
    "        Parameters\n",
    "        ----------\n",
    "        obs_gd: int\n",
    "            game goal-difference.\n",
    "        ah_line: double\n",
    "            asian line could be integer, quarter or third quarter line.\n",
    "        ah_odds: double\n",
    "            asian handicap odds for the given side\n",
    "        \"\"\"\n",
    "        # team advantage\n",
    "        gd_advantage = obs_gd + ah_line\n",
    "        # deal with all advantage cases\n",
    "        # 0 advantage\n",
    "        if gd_advantage == 0:\n",
    "            return 0\n",
    "        # positive adv and higher than 0.5\n",
    "        # win the bet\n",
    "        elif gd_advantage >= 0.5:\n",
    "            return ah_odds-1\n",
    "        # negative adv and < than -0.5\n",
    "        # lose the bet\n",
    "        elif gd_advantage <= -0.5:\n",
    "            return -1\n",
    "        # positive adv and equal to 0.25\n",
    "        # win the half\n",
    "        elif gd_advantage == 0.25:\n",
    "            return((ah_odds-1) * 0.5)\n",
    "        # positive adv and equal to -0.25\n",
    "        # lose the half stake of your bets.\n",
    "        elif gd_advantage == -0.25:\n",
    "            return -0.5\n",
    "        else:\n",
    "            return None\n",
    "            "
   ]
  }
 ],
 "metadata": {
  "kernelspec": {
   "display_name": "Python 3 (ipykernel)",
   "language": "python",
   "name": "python3"
  }
 },
 "nbformat": 4,
 "nbformat_minor": 5
}
