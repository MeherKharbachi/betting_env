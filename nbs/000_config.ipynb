{
 "cells": [
  {
   "cell_type": "code",
   "execution_count": null,
   "id": "c431eca4",
   "metadata": {},
   "outputs": [],
   "source": [
    "# | default_exp config.localconfig"
   ]
  },
  {
   "cell_type": "markdown",
   "id": "c301a168",
   "metadata": {},
   "source": [
    "# Config"
   ]
  },
  {
   "cell_type": "markdown",
   "id": "fd6dc3f6",
   "metadata": {},
   "source": [
    "A set of tool-functions to assist in computations, database connection and data manipulation."
   ]
  },
  {
   "cell_type": "code",
   "execution_count": null,
   "id": "fde5421a",
   "metadata": {},
   "outputs": [],
   "source": [
    "# | include: false\n",
    "from nbdev.showdoc import *"
   ]
  },
  {
   "cell_type": "code",
   "execution_count": null,
   "id": "cc55be99",
   "metadata": {},
   "outputs": [],
   "source": [
    "# | export\n",
    "import toml\n",
    "import logging\n",
    "\n",
    "# Read local `config.toml` file.\n",
    "CONFIG = toml.load(\"/secrets/config.toml\")\n",
    "\n",
    "## defined database hosts\n",
    "DB_HOSTS = set([db for db in CONFIG[\"databases\"]])\n",
    "\n",
    "## config\n",
    "logging.basicConfig(\n",
    "    level=logging.INFO, format=\"%(asctime)s - %(message)s\", datefmt=\"%Y-%m-%d %H:%M:%S\"\n",
    ")"
   ]
  }
 ],
 "metadata": {
  "kernelspec": {
   "display_name": "Python 3 (ipykernel)",
   "language": "python",
   "name": "python3"
  }
 },
 "nbformat": 4,
 "nbformat_minor": 5
}
