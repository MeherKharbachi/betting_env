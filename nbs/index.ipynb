{
 "cells": [
  {
   "cell_type": "code",
   "execution_count": null,
   "metadata": {},
   "outputs": [],
   "source": [
    "#| hide\n",
    "import pandas as pd\n",
    "import plotly.io as pio\n",
    "from betting_env.config.mongo import mongo_init\n",
    "from betting_env.datastructure.fixtures import *\n",
    "from betting_env.betting_env import BettingEnv"
   ]
  },
  {
   "cell_type": "code",
   "execution_count": null,
   "metadata": {},
   "outputs": [],
   "source": [
    "#| hide\n",
    "\n",
    "# If you use jupyter lab.\n",
    "pio.renderers.default = \"iframe\""
   ]
  },
  {
   "cell_type": "markdown",
   "metadata": {},
   "source": [
    "# betting_env\n",
    "\n",
    "> Create a custom GYM environment to simulate trading strategy."
   ]
  },
  {
   "cell_type": "markdown",
   "metadata": {},
   "source": [
    "## Install"
   ]
  },
  {
   "cell_type": "markdown",
   "metadata": {},
   "source": [
    "```sh\n",
    "pip install betting_env\n",
    "```"
   ]
  },
  {
   "cell_type": "markdown",
   "metadata": {},
   "source": [
    "## Test environment"
   ]
  },
  {
   "cell_type": "markdown",
   "metadata": {},
   "source": [
    "Assuming We have `$N` (N>0) in our Bank account and would want to place some bets on several `football` games.\n",
    "\n",
    "The `bettor` can play on two alternative betting forms: `1X2` and `Asian handicap` by placing a `small`, `medium`, or `big` stake size of his current balance on `home team win`, `away team win`, or `draw` (1X2 case). In this custom environment, the `agent` is placing ,in each step, a wager on a `single game`, is informed of the `game` information, and receives a `reward` (Profit) that might be `positive` or `negative`.\n",
    "\n",
    "It should be noted that the `agent` quits betting after he has played all of the supplied `games` or has lost all of the `money`. "
   ]
  },
  {
   "cell_type": "markdown",
   "metadata": {},
   "source": [
    "### Load games"
   ]
  },
  {
   "cell_type": "code",
   "execution_count": null,
   "metadata": {},
   "outputs": [],
   "source": [
    "# Initialise connections.\n",
    "mongo_init(\"prod_atlas\")\n",
    "# Get all fixtures.\n",
    "fixtures = Fixture.get_all_fixtures()\n",
    "# Fixtures.\n",
    "fixtures = pd.DataFrame(fixtures.as_pymongo())"
   ]
  },
  {
   "cell_type": "markdown",
   "metadata": {},
   "source": [
    "### Init environment"
   ]
  },
  {
   "cell_type": "code",
   "execution_count": null,
   "metadata": {},
   "outputs": [],
   "source": [
    "env = BettingEnv(fixtures)\n",
    "max_steps_limit = fixtures.shape[0]"
   ]
  },
  {
   "cell_type": "markdown",
   "metadata": {},
   "source": [
    "### Playing random choices"
   ]
  },
  {
   "cell_type": "code",
   "execution_count": null,
   "metadata": {},
   "outputs": [
    {
     "data": {
      "text/html": [
       "<iframe\n",
       "    scrolling=\"no\"\n",
       "    width=\"100%\"\n",
       "    height=\"545px\"\n",
       "    src=\"iframe_figures/figure_5.html\"\n",
       "    frameborder=\"0\"\n",
       "    allowfullscreen\n",
       "></iframe>\n"
      ]
     },
     "metadata": {},
     "output_type": "display_data"
    }
   ],
   "source": [
    "# Init RL env.\n",
    "env.reset()\n",
    "# Init done Flag to False.\n",
    "done = False\n",
    "# Init loop counter.\n",
    "i = 0\n",
    "# Stops when it is done or when we have bet on all provided games.\n",
    "while not done and i < max_steps_limit:\n",
    "    # Make a step.\n",
    "    obs, reward, done, info = env.step(env.action_space.sample())\n",
    "    # Increment counter.\n",
    "    i = i + 1\n",
    "# Display graph.\n",
    "env.render()\n",
    "env.fig.update_layout(hovermode=\"x\")\n",
    "env.fig.show()"
   ]
  },
  {
   "cell_type": "markdown",
   "metadata": {},
   "source": [
    "### Playing Medium Stake on Home Team Win (1X2)"
   ]
  },
  {
   "cell_type": "code",
   "execution_count": null,
   "metadata": {},
   "outputs": [
    {
     "data": {
      "text/html": [
       "<iframe\n",
       "    scrolling=\"no\"\n",
       "    width=\"100%\"\n",
       "    height=\"545px\"\n",
       "    src=\"iframe_figures/figure_6.html\"\n",
       "    frameborder=\"0\"\n",
       "    allowfullscreen\n",
       "></iframe>\n"
      ]
     },
     "metadata": {},
     "output_type": "display_data"
    }
   ],
   "source": [
    "# Init RL env.\n",
    "env.reset()\n",
    "# Init done Flag to False.\n",
    "done = False\n",
    "# Init loop counter.\n",
    "i = 0\n",
    "# Stops when it is done or when we have bet on all provided games.\n",
    "while not done and i < max_steps_limit:\n",
    "    # Make a step.\n",
    "    obs, reward, done, info = env.step(2)\n",
    "    # Increment counter.\n",
    "    i = i + 1\n",
    "# Display graph.\n",
    "env.render()\n",
    "env.fig.update_layout(hovermode=\"x\")\n",
    "env.fig.show()"
   ]
  }
 ],
 "metadata": {
  "kernelspec": {
   "display_name": "python3",
   "language": "python",
   "name": "python3"
  }
 },
 "nbformat": 4,
 "nbformat_minor": 4
}
