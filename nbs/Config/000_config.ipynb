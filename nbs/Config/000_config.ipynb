{
 "cells": [
  {
   "cell_type": "code",
   "execution_count": null,
   "id": "3a701c84",
   "metadata": {},
   "outputs": [],
   "source": [
    "#| default_exp config.localconfig"
   ]
  },
  {
   "cell_type": "code",
   "execution_count": null,
   "id": "5495f262-0574-4020-a983-02556d0a6a75",
   "metadata": {},
   "outputs": [],
   "source": [
    "from IPython.core.debugger import set_trace\n",
    "\n",
    "%load_ext autoreload\n",
    "%autoreload 2"
   ]
  },
  {
   "cell_type": "markdown",
   "id": "7c727e56",
   "metadata": {},
   "source": [
    "# Config\n",
    "> set of tool-functions to assist in computations, database connection and data manipulation."
   ]
  },
  {
   "cell_type": "markdown",
   "id": "c788ab81",
   "metadata": {},
   "source": [
    "# Load Config\n",
    "The config file for this project is defined in `toml` format and should be loaded at the start of this project. It is saved by default under the package root under `config.toml`. If not found, we will check under `/secrets`. It is the user's responsability to make sure this file is saved at the right location."
   ]
  },
  {
   "cell_type": "code",
   "execution_count": null,
   "id": "7403ff95",
   "metadata": {},
   "outputs": [],
   "source": [
    "#| export\n",
    "import toml\n",
    "import logging\n",
    "from pathlib import Path\n",
    "\n",
    "# Read local `config.toml` file.\n",
    "pkg_config = Path(\"../../config.toml\")\n",
    "local_config = Path(\"/secrets/config.toml\")\n",
    "CONFIG = toml.load(pkg_config if pkg_config.exists() else local_config)\n",
    "\n",
    "## defined database hosts\n",
    "DB_HOSTS = set([db for db in CONFIG[\"databases\"]])\n",
    "\n",
    "## config\n",
    "logging.basicConfig(level=logging.INFO, format='%(asctime)s - %(message)s', datefmt='%Y-%m-%d %H:%M:%S')"
   ]
  },
  {
   "cell_type": "code",
   "execution_count": null,
   "id": "25b7e2b0-a93e-480a-829f-1e4950887dda",
   "metadata": {},
   "outputs": [],
   "source": [
    "#| hide\n",
    "\n",
    "import nbdev\n",
    "\n",
    "nbdev.nbdev_export()"
   ]
  }
 ],
 "metadata": {
  "kernelspec": {
   "display_name": "python3",
   "language": "python",
   "name": "python3"
  }
 },
 "nbformat": 4,
 "nbformat_minor": 5
}
